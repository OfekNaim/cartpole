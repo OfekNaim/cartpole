{
  "nbformat": 4,
  "nbformat_minor": 0,
  "metadata": {
    "colab": {
      "provenance": []
    },
    "kernelspec": {
      "name": "python3",
      "display_name": "Python 3"
    },
    "language_info": {
      "name": "python"
    }
  },
  "cells": [
    {
      "cell_type": "code",
      "source": [
        "import gdown\n",
        "# Download the trained expert model\n",
        "!gdown --id 1tqMYda2ltKC_ehC72SX4AiLVCY-N1alo\n",
        "\n",
        "# Download the trained imitation model\n",
        "!gdown --id 1VuVeMVWr4uviZx5_a8JacNx2oJdN36_l"
      ],
      "metadata": {
        "colab": {
          "base_uri": "https://localhost:8080/"
        },
        "id": "xhR3DWLGUEZr",
        "outputId": "9aef07da-1224-4233-e451-db07d643d1d1"
      },
      "execution_count": 4,
      "outputs": [
        {
          "output_type": "stream",
          "name": "stdout",
          "text": [
            "/usr/local/lib/python3.11/dist-packages/gdown/__main__.py:140: FutureWarning: Option `--id` was deprecated in version 4.3.1 and will be removed in 5.0. You don't need to pass it anymore to use a file ID.\n",
            "  warnings.warn(\n",
            "Downloading...\n",
            "From: https://drive.google.com/uc?id=1tqMYda2ltKC_ehC72SX4AiLVCY-N1alo\n",
            "To: /content/reinforce_cartpole.h5\n",
            "100% 37.8k/37.8k [00:00<00:00, 66.3MB/s]\n",
            "/usr/local/lib/python3.11/dist-packages/gdown/__main__.py:140: FutureWarning: Option `--id` was deprecated in version 4.3.1 and will be removed in 5.0. You don't need to pass it anymore to use a file ID.\n",
            "  warnings.warn(\n",
            "Downloading...\n",
            "From: https://drive.google.com/uc?id=1VuVeMVWr4uviZx5_a8JacNx2oJdN36_l\n",
            "To: /content/cartpole_imitation_model.h5\n",
            "100% 84.4k/84.4k [00:00<00:00, 47.0MB/s]\n"
          ]
        }
      ]
    },
    {
      "cell_type": "code",
      "execution_count": 5,
      "metadata": {
        "colab": {
          "base_uri": "https://localhost:8080/"
        },
        "id": "s7S7lb8DT-Nh",
        "outputId": "231ce78e-4658-43b9-861a-4b323c3a5c4c"
      },
      "outputs": [
        {
          "output_type": "stream",
          "name": "stderr",
          "text": [
            "WARNING:absl:Compiled the loaded model, but the compiled metrics have yet to be built. `model.compile_metrics` will be empty until you train or evaluate the model.\n",
            "/usr/local/lib/python3.11/dist-packages/gymnasium/envs/classic_control/cartpole.py:250: UserWarning: \u001b[33mWARN: You are calling render method without specifying any render mode. You can specify the render_mode at initialization, e.g. gym.make(\"CartPole-v1\", render_mode=\"rgb_array\")\u001b[0m\n",
            "  gym.logger.warn(\n"
          ]
        },
        {
          "output_type": "stream",
          "name": "stdout",
          "text": [
            "Episode 1: Reward = 500.0\n",
            "Episode 2: Reward = 500.0\n",
            "Episode 3: Reward = 500.0\n",
            "Episode 4: Reward = 500.0\n",
            "Episode 5: Reward = 500.0\n",
            "Imitation Model Average Reward over 5 episodes: 500.00\n"
          ]
        }
      ],
      "source": [
        "import numpy as np\n",
        "import tensorflow as tf\n",
        "import gymnasium as gym\n",
        "\n",
        "# Load the trained imitation model\n",
        "model = tf.keras.models.load_model(\"cartpole_imitation_model.h5\")\n",
        "\n",
        "# Create the CartPole environment\n",
        "env = gym.make(\"CartPole-v1\")\n",
        "\n",
        "num_episodes = 5  # Number of episodes to test\n",
        "total_rewards = []\n",
        "\n",
        "for episode in range(num_episodes):\n",
        "    state, _ = env.reset()\n",
        "    done = False\n",
        "    episode_reward = 0\n",
        "\n",
        "    while not done:\n",
        "        # Prepare input for the model\n",
        "        state_input = np.array(state).reshape(1, -1)\n",
        "\n",
        "        # Inference: Predict the best action\n",
        "        action_probs = model.predict(state_input, verbose=0)\n",
        "        action = np.argmax(action_probs)\n",
        "\n",
        "        # Take action in the environment\n",
        "        state, reward, terminated, truncated, _ = env.step(action)\n",
        "        done = terminated or truncated\n",
        "\n",
        "        episode_reward += reward\n",
        "\n",
        "        env.render()  # Show the environment (disable for faster inference)\n",
        "\n",
        "    total_rewards.append(episode_reward)\n",
        "    print(f\"Episode {episode + 1}: Reward = {episode_reward}\")\n",
        "\n",
        "env.close()\n",
        "\n",
        "# Calculate and display the average reward\n",
        "avg_reward = np.mean(total_rewards)\n",
        "print(f\"Imitation Model Average Reward over {num_episodes} episodes: {avg_reward:.2f}\")\n"
      ]
    },
    {
      "cell_type": "code",
      "source": [
        "import numpy as np\n",
        "import tensorflow as tf\n",
        "import gymnasium as gym\n",
        "import cv2\n",
        "\n",
        "def record_inference_video(model_path, video_filename, num_episodes=1, fps=30):\n",
        "    \"\"\" Records a video of the model playing CartPole and saves it as an MP4 file. \"\"\"\n",
        "    # Load the trained model\n",
        "    model = tf.keras.models.load_model(model_path)\n",
        "\n",
        "    # Create the environment\n",
        "    env = gym.make(\"CartPole-v1\", render_mode=\"rgb_array\")\n",
        "\n",
        "    frame_width = 600\n",
        "    frame_height = 400\n",
        "\n",
        "    # Set up the video writer\n",
        "    fourcc = cv2.VideoWriter_fourcc(*'mp4v')\n",
        "    out = cv2.VideoWriter(video_filename, fourcc, fps, (frame_width, frame_height))\n",
        "\n",
        "    for episode in range(num_episodes):\n",
        "        state, _ = env.reset()\n",
        "        done = False\n",
        "\n",
        "        while not done:\n",
        "            # Render frame from the environment\n",
        "            frame = env.render()  # Get the frame as a NumPy array\n",
        "            frame = cv2.cvtColor(frame, cv2.COLOR_RGB2BGR)  # Convert to OpenCV format\n",
        "            frame = cv2.resize(frame, (frame_width, frame_height))  # Resize\n",
        "            out.write(frame)  # Save the frame to the video file\n",
        "\n",
        "            # Prepare model input\n",
        "            state_input = np.array(state).reshape(1, -1)\n",
        "            action_probs = model.predict(state_input, verbose=0)\n",
        "            action = np.argmax(action_probs)\n",
        "\n",
        "            # Take action in the environment\n",
        "            state, _, terminated, truncated, _ = env.step(action)\n",
        "            done = terminated or truncated\n",
        "\n",
        "    out.release()\n",
        "    env.close()\n",
        "    print(f\"Video saved as: {video_filename}\")\n",
        "\n",
        "record_inference_video(\"cartpole_imitation_model.h5\", \"imitation_model_video.mp4\")\n"
      ],
      "metadata": {
        "colab": {
          "base_uri": "https://localhost:8080/"
        },
        "id": "8NyCr1tWUK5h",
        "outputId": "e5ac3eb0-fe76-447f-da3c-5c7c14834607"
      },
      "execution_count": 6,
      "outputs": [
        {
          "output_type": "stream",
          "name": "stderr",
          "text": [
            "WARNING:absl:Compiled the loaded model, but the compiled metrics have yet to be built. `model.compile_metrics` will be empty until you train or evaluate the model.\n"
          ]
        },
        {
          "output_type": "stream",
          "name": "stdout",
          "text": [
            "Video saved as: imitation_model_video.mp4\n"
          ]
        }
      ]
    }
  ]
}